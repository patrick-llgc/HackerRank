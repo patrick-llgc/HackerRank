{
 "cells": [
  {
   "cell_type": "markdown",
   "metadata": {},
   "source": [
    "# word break problem\n",
    "\n",
    "http://thenoisychannel.com/2011/08/08/retiring-a-great-interview-problem"
   ]
  },
  {
   "cell_type": "code",
   "execution_count": 96,
   "metadata": {},
   "outputs": [],
   "source": [
    "my_dict = ['hello', 'orld', 'hell', 'world']\n",
    "my_dict = ['a', 'aa', 'aaa', 'aaaa']\n",
    "raw_string = 'helloworld'"
   ]
  },
  {
   "cell_type": "code",
   "execution_count": 103,
   "metadata": {
    "collapsed": true
   },
   "outputs": [],
   "source": [
    "\n",
    "# def findWords(raw_string):\n",
    "#     # first implementaion\n",
    "#     if raw_string == '':\n",
    "#         return True, []\n",
    "#     for i in range(1, len(raw_string)+1):\n",
    "#         pre = raw_string[:i]\n",
    "#         post = raw_string[i:]\n",
    "#         if pre in my_dict and findWords(post)[0]:\n",
    "#             return True, [pre] + findWords(post)[1]\n",
    "#     return False, []\n",
    "\n",
    "def findWords(raw_string):\n",
    "    # improved version\n",
    "    if raw_string in my_dict:\n",
    "        return [raw_string]\n",
    "    for i in range(1, len(raw_string)):\n",
    "        pre = raw_string[:i]\n",
    "        post = raw_string[i:]\n",
    "        if pre in my_dict and findWords(post) is not None:\n",
    "            return [pre] + findWords(post)\n",
    "    return None"
   ]
  },
  {
   "cell_type": "code",
   "execution_count": 72,
   "metadata": {},
   "outputs": [
    {
     "data": {
      "text/plain": [
       "['hello', 'world']"
      ]
     },
     "execution_count": 72,
     "metadata": {},
     "output_type": "execute_result"
    }
   ],
   "source": [
    "findWords(raw_string)"
   ]
  },
  {
   "cell_type": "code",
   "execution_count": 104,
   "metadata": {},
   "outputs": [],
   "source": [
    "built_dict = {}\n",
    "def findWordsDynamic(raw_string):\n",
    "    # improved version\n",
    "    if raw_string in my_dict:\n",
    "        return [raw_string]\n",
    "    if raw_string in built_dict:\n",
    "#         print('Visit: {}, {}'.format(raw_string, built_dict[raw_string]))\n",
    "        return built_dict[raw_string]\n",
    "        \n",
    "    for i in range(1, len(raw_string)):\n",
    "        pre = raw_string[:i]\n",
    "        post = raw_string[i:]\n",
    "        if pre in my_dict and findWordsDynamic(post) is not None:\n",
    "            built_dict[raw_string] = [pre] + findWordsDynamic(post)\n",
    "            return [pre] + findWords(post)\n",
    "    built_dict[raw_string] = None\n",
    "    return None"
   ]
  },
  {
   "cell_type": "code",
   "execution_count": 105,
   "metadata": {},
   "outputs": [],
   "source": [
    "findWords('aaaaaaaab')"
   ]
  },
  {
   "cell_type": "markdown",
   "metadata": {},
   "source": [
    "# Merge sort"
   ]
  },
  {
   "cell_type": "code",
   "execution_count": 169,
   "metadata": {
    "collapsed": true
   },
   "outputs": [],
   "source": [
    "def mergeSort(numbers):\n",
    "    \"\"\"numbers is a list of numbers\"\"\"\n",
    "    n = len(numbers)\n",
    "    if n == 1:\n",
    "        return numbers\n",
    "    merged = []\n",
    "    pre = numbers[:(n//2)]\n",
    "    post = numbers[(n//2):]\n",
    "    print('INFO: pre = {}, post = {}'.format(pre, post))\n",
    "    pre_sorted = mergeSort(pre)\n",
    "    post_sorted = mergeSort(post)\n",
    "    # merge\n",
    "    i_pre = 0\n",
    "    i_post = 0\n",
    "    while i_pre < len(pre_sorted) and i_post < len(post_sorted):\n",
    "        if pre_sorted[i_pre] > post_sorted[i_post]:\n",
    "            merged.append(post_sorted[i_post])\n",
    "            i_post += 1\n",
    "        else:\n",
    "            merged.append(pre_sorted[i_pre])\n",
    "            i_pre += 1\n",
    "    if i_pre == len(pre_sorted):\n",
    "        merged = merged + post_sorted[i_post:]\n",
    "    else:\n",
    "        merged = merged + pre_sorted[i_pre:]\n",
    "    print('INFO: merged={}'.format(merged))\n",
    "    return merged\n",
    "\n",
    "        "
   ]
  },
  {
   "cell_type": "code",
   "execution_count": 125,
   "metadata": {},
   "outputs": [
    {
     "name": "stdout",
     "output_type": "stream",
     "text": [
      "INFO: pre = [1, 235], post = [23, 40, 3]\n",
      "INFO: pre = [1], post = [235]\n",
      "INFO: merged=[1, 235]\n",
      "INFO: pre = [23], post = [40, 3]\n",
      "INFO: pre = [40], post = [3]\n",
      "INFO: merged=[3, 40]\n",
      "INFO: merged=[3, 23, 40]\n",
      "INFO: merged=[1, 3, 23, 40, 235]\n"
     ]
    },
    {
     "data": {
      "text/plain": [
       "[1, 3, 23, 40, 235]"
      ]
     },
     "execution_count": 125,
     "metadata": {},
     "output_type": "execute_result"
    }
   ],
   "source": [
    "mergeSort([1, 235, 23, 40, 3])"
   ]
  },
  {
   "cell_type": "markdown",
   "metadata": {},
   "source": [
    "# Quick sort"
   ]
  },
  {
   "cell_type": "code",
   "execution_count": 204,
   "metadata": {
    "collapsed": true
   },
   "outputs": [],
   "source": [
    "def quickSort(numbers):\n",
    "    \"\"\"numbers is a list of numbers\"\"\"\n",
    "    print('INFO: passed numbers={}'.format(numbers))\n",
    "    n = len(numbers)\n",
    "    if n <= 1:\n",
    "        return numbers\n",
    "    pivot = numbers[-1]\n",
    "    i = 0\n",
    "    j = n-1\n",
    "    while i < j:\n",
    "        while numbers[i] < pivot and i < j:\n",
    "            i += 1\n",
    "        while i < j and numbers[j-1] > pivot:\n",
    "            j -= 1\n",
    "        if i < j - 1:\n",
    "            numbers[i], numbers[j] = numbers[j], numbers[i] \n",
    "    numbers = numbers[:i] + [pivot] + numbers[i:-1]\n",
    "    print('INFO: pivoted numbers{}'.format(numbers))\n",
    "            \n",
    "    # get new pivot location i\n",
    "    return quickSort(numbers[:i]) + quickSort(numbers[i:])\n"
   ]
  },
  {
   "cell_type": "code",
   "execution_count": 205,
   "metadata": {},
   "outputs": [
    {
     "name": "stdout",
     "output_type": "stream",
     "text": [
      "INFO: passed numbers=[1, 21, 4, 3, 45, 33]\n",
      "INFO: pivoted numbers[1, 21, 4, 3, 33, 45]\n",
      "INFO: passed numbers=[1, 21, 4, 3]\n",
      "INFO: pivoted numbers[1, 3, 21, 4]\n",
      "INFO: passed numbers=[1]\n",
      "INFO: passed numbers=[3, 21, 4]\n",
      "INFO: pivoted numbers[3, 4, 21]\n",
      "INFO: passed numbers=[3]\n",
      "INFO: passed numbers=[4, 21]\n",
      "INFO: pivoted numbers[4, 21]\n",
      "INFO: passed numbers=[4]\n",
      "INFO: passed numbers=[21]\n",
      "INFO: passed numbers=[33, 45]\n",
      "INFO: pivoted numbers[33, 45]\n",
      "INFO: passed numbers=[33]\n",
      "INFO: passed numbers=[45]\n"
     ]
    },
    {
     "data": {
      "text/plain": [
       "[1, 3, 4, 21, 33, 45]"
      ]
     },
     "execution_count": 205,
     "metadata": {},
     "output_type": "execute_result"
    }
   ],
   "source": [
    "quickSort([1, 21, 4, 3, 45, 33])"
   ]
  },
  {
   "cell_type": "code",
   "execution_count": null,
   "metadata": {
    "collapsed": true
   },
   "outputs": [],
   "source": []
  },
  {
   "cell_type": "code",
   "execution_count": null,
   "metadata": {
    "collapsed": true
   },
   "outputs": [],
   "source": []
  }
 ],
 "metadata": {
  "kernelspec": {
   "display_name": "Python 3",
   "language": "python",
   "name": "python3"
  },
  "language_info": {
   "codemirror_mode": {
    "name": "ipython",
    "version": 3
   },
   "file_extension": ".py",
   "mimetype": "text/x-python",
   "name": "python",
   "nbconvert_exporter": "python",
   "pygments_lexer": "ipython3",
   "version": "3.6.0"
  }
 },
 "nbformat": 4,
 "nbformat_minor": 2
}
